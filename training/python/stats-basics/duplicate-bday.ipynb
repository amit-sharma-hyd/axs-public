{
 "cells": [
  {
   "cell_type": "markdown",
   "metadata": {},
   "source": [
    "## How likely are any 2 students to share the same bday in a classroom? "
   ]
  },
  {
   "cell_type": "code",
   "execution_count": 40,
   "metadata": {},
   "outputs": [
    {
     "data": {
      "text/plain": [
       "[(0, 0.0),\n",
       " (10, 11.0),\n",
       " (20, 48.0),\n",
       " (30, 74.0),\n",
       " (40, 89.0),\n",
       " (50, 94.0),\n",
       " (60, 100.0),\n",
       " (70, 100.0),\n",
       " (80, 100.0),\n",
       " (90, 100.0)]"
      ]
     },
     "execution_count": 40,
     "metadata": {},
     "output_type": "execute_result"
    }
   ],
   "source": [
    "import numpy as np\n",
    "import seaborn as sns\n",
    "\n",
    "\n",
    "dups=[]\n",
    "classes=np.arange(0, 100, step=10)\n",
    "for classSize in classes:\n",
    "    numTrials = 100\n",
    "    numDups = 0\n",
    "    for _ in range(numTrials):\n",
    "        bdays = np.random.randint(1, 365, classSize)\n",
    "        if (len(set(bdays))<classSize):\n",
    "            numDups += 1\n",
    "    dups.append(numDups*100.0/numTrials)\n",
    "    \n",
    "zip(classes, dups)"
   ]
  },
  {
   "cell_type": "code",
   "execution_count": 41,
   "metadata": {},
   "outputs": [
    {
     "data": {
      "text/html": [
       "<script>requirejs.config({paths: { 'plotly': ['https://cdn.plot.ly/plotly-latest.min']},});if(!window.Plotly) {{require(['plotly'],function(plotly) {window.Plotly=plotly;});}}</script>"
      ],
      "text/vnd.plotly.v1+html": [
       "<script>requirejs.config({paths: { 'plotly': ['https://cdn.plot.ly/plotly-latest.min']},});if(!window.Plotly) {{require(['plotly'],function(plotly) {window.Plotly=plotly;});}}</script>"
      ]
     },
     "metadata": {},
     "output_type": "display_data"
    },
    {
     "data": {
      "application/vnd.plotly.v1+json": {
       "data": [
        {
         "marker": {
          "color": "lightblue",
          "line": {
           "color": "blue",
           "width": 1.5
          }
         },
         "opacity": 0.6,
         "type": "bar",
         "x": [
          0,
          10,
          20,
          30,
          40,
          50,
          60,
          70,
          80,
          90
         ],
         "y": [
          0,
          11,
          48,
          74,
          89,
          94,
          100,
          100,
          100,
          100
         ]
        }
       ],
       "layout": {
        "title": "Duplicate Bdays",
        "xaxis": {
         "title": "Number of students in class"
        },
        "yaxis": {
         "title": "Prob (at least 2 students share Bday)"
        }
       }
      },
      "text/html": [
       "<div id=\"4cf06539-9596-4bb9-946a-d2d0d991e185\" style=\"height: 525px; width: 100%;\" class=\"plotly-graph-div\"></div><script type=\"text/javascript\">require([\"plotly\"], function(Plotly) { window.PLOTLYENV=window.PLOTLYENV || {};window.PLOTLYENV.BASE_URL=\"https://plot.ly\";Plotly.newPlot(\"4cf06539-9596-4bb9-946a-d2d0d991e185\", [{\"opacity\": 0.6, \"marker\": {\"color\": \"lightblue\", \"line\": {\"color\": \"blue\", \"width\": 1.5}}, \"type\": \"bar\", \"y\": [0.0, 11.0, 48.0, 74.0, 89.0, 94.0, 100.0, 100.0, 100.0, 100.0], \"x\": [0, 10, 20, 30, 40, 50, 60, 70, 80, 90]}], {\"title\": \"Duplicate Bdays\", \"xaxis\": {\"title\": \"Number of students in class\"}, \"yaxis\": {\"title\": \"Prob (at least 2 students share Bday)\"}}, {\"linkText\": \"Export to plot.ly\", \"showLink\": true})});</script>"
      ],
      "text/vnd.plotly.v1+html": [
       "<div id=\"4cf06539-9596-4bb9-946a-d2d0d991e185\" style=\"height: 525px; width: 100%;\" class=\"plotly-graph-div\"></div><script type=\"text/javascript\">require([\"plotly\"], function(Plotly) { window.PLOTLYENV=window.PLOTLYENV || {};window.PLOTLYENV.BASE_URL=\"https://plot.ly\";Plotly.newPlot(\"4cf06539-9596-4bb9-946a-d2d0d991e185\", [{\"opacity\": 0.6, \"marker\": {\"color\": \"lightblue\", \"line\": {\"color\": \"blue\", \"width\": 1.5}}, \"type\": \"bar\", \"y\": [0.0, 11.0, 48.0, 74.0, 89.0, 94.0, 100.0, 100.0, 100.0, 100.0], \"x\": [0, 10, 20, 30, 40, 50, 60, 70, 80, 90]}], {\"title\": \"Duplicate Bdays\", \"xaxis\": {\"title\": \"Number of students in class\"}, \"yaxis\": {\"title\": \"Prob (at least 2 students share Bday)\"}}, {\"linkText\": \"Export to plot.ly\", \"showLink\": true})});</script>"
      ]
     },
     "metadata": {},
     "output_type": "display_data"
    }
   ],
   "source": [
    "from plotly.offline import download_plotlyjs, init_notebook_mode, plot, iplot\n",
    "init_notebook_mode(connected=True)\n",
    "\n",
    "data = [go.Bar(\n",
    "            x=classes,\n",
    "            y=dups,\n",
    "            marker=dict(\n",
    "                color='lightblue',\n",
    "                line=dict(\n",
    "                    color='blue',\n",
    "                    width=1.5,\n",
    "                )\n",
    "            ),\n",
    "            opacity=0.6   \n",
    "        )]\n",
    "\n",
    "layout = go.Layout(\n",
    "    title='Duplicate Bdays',\n",
    "    xaxis=dict(\n",
    "        title='Number of students in class'\n",
    "    ),\n",
    "    yaxis=dict(\n",
    "        title='Prob (at least 2 students share Bday)'\n",
    "    )\n",
    ")\n",
    "\n",
    "iplot(go.Figure(data=data, layout=layout))"
   ]
  }
 ],
 "metadata": {
  "kernelspec": {
   "display_name": "Python 2",
   "language": "python",
   "name": "python2"
  },
  "language_info": {
   "codemirror_mode": {
    "name": "ipython",
    "version": 2
   },
   "file_extension": ".py",
   "mimetype": "text/x-python",
   "name": "python",
   "nbconvert_exporter": "python",
   "pygments_lexer": "ipython2",
   "version": "2.7.10"
  }
 },
 "nbformat": 4,
 "nbformat_minor": 2
}
