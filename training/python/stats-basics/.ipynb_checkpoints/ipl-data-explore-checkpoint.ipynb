{
 "cells": [
  {
   "attachments": {
    "building-statistics.jpg": {
     "image/jpeg": "[encoded data removed]"
    }
   },
   "cell_type": "markdown",
   "metadata": {},
   "source": [
    "<h1><center>Basic Stats and Data Exploration using Python</center></h1>\n",
    "\n",
    "![building-statistics.jpg](attachment:building-statistics.jpg)"
   ]
  },
  {
   "cell_type": "markdown",
   "metadata": {},
   "source": [
    "## Import necessary libraries"
   ]
  },
  {
   "cell_type": "code",
   "execution_count": 76,
   "metadata": {},
   "outputs": [],
   "source": [
    "import numpy as np\n",
    "import pandas as pd\n",
    "import matplotlib.pyplot as plt\n",
    "%matplotlib inline\n",
    "import seaborn as sns"
   ]
  },
  {
   "cell_type": "code",
   "execution_count": 106,
   "metadata": {},
   "outputs": [],
   "source": [
    "sns.set_palette(\"husl\")"
   ]
  },
  {
   "cell_type": "markdown",
   "metadata": {},
   "source": [
    "## Read the file into a dataframe"
   ]
  },
  {
   "cell_type": "code",
   "execution_count": 77,
   "metadata": {},
   "outputs": [],
   "source": [
    "df = pd.read_csv(\"./matches.csv\", low_memory=False)"
   ]
  },
  {
   "cell_type": "markdown",
   "metadata": {},
   "source": [
    "## Examining the dataset"
   ]
  },
  {
   "cell_type": "code",
   "execution_count": 78,
   "metadata": {},
   "outputs": [
    {
     "data": {
      "text/plain": [
       "(636, 18)"
      ]
     },
     "execution_count": 78,
     "metadata": {},
     "output_type": "execute_result"
    }
   ],
   "source": [
    "df.shape"
   ]
  },
  {
   "cell_type": "code",
   "execution_count": 79,
   "metadata": {},
   "outputs": [
    {
     "data": {
      "text/html": [
       "<div>\n",
       "<style>\n",
       "    .dataframe thead tr:only-child th {\n",
       "        text-align: right;\n",
       "    }\n",
       "\n",
       "    .dataframe thead th {\n",
       "        text-align: left;\n",
       "    }\n",
       "\n",
       "    .dataframe tbody tr th {\n",
       "        vertical-align: top;\n",
       "    }\n",
       "</style>\n",
       "<table border=\"1\" class=\"dataframe\">\n",
       "  <thead>\n",
       "    <tr style=\"text-align: right;\">\n",
       "      <th></th>\n",
       "      <th>id</th>\n",
       "      <th>season</th>\n",
       "      <th>city</th>\n",
       "      <th>date</th>\n",
       "      <th>team1</th>\n",
       "      <th>team2</th>\n",
       "      <th>toss_winner</th>\n",
       "      <th>toss_decision</th>\n",
       "      <th>result</th>\n",
       "      <th>dl_applied</th>\n",
       "      <th>winner</th>\n",
       "      <th>win_by_runs</th>\n",
       "      <th>win_by_wickets</th>\n",
       "      <th>player_of_match</th>\n",
       "      <th>venue</th>\n",
       "      <th>umpire1</th>\n",
       "      <th>umpire2</th>\n",
       "      <th>umpire3</th>\n",
       "    </tr>\n",
       "  </thead>\n",
       "  <tbody>\n",
       "    <tr>\n",
       "      <th>0</th>\n",
       "      <td>1</td>\n",
       "      <td>2017</td>\n",
       "      <td>Hyderabad</td>\n",
       "      <td>2017-04-05</td>\n",
       "      <td>Sunrisers Hyderabad</td>\n",
       "      <td>Royal Challengers Bangalore</td>\n",
       "      <td>Royal Challengers Bangalore</td>\n",
       "      <td>field</td>\n",
       "      <td>normal</td>\n",
       "      <td>0</td>\n",
       "      <td>Sunrisers Hyderabad</td>\n",
       "      <td>35</td>\n",
       "      <td>0</td>\n",
       "      <td>Yuvraj Singh</td>\n",
       "      <td>Rajiv Gandhi International Stadium, Uppal</td>\n",
       "      <td>AY Dandekar</td>\n",
       "      <td>NJ Llong</td>\n",
       "      <td>NaN</td>\n",
       "    </tr>\n",
       "    <tr>\n",
       "      <th>1</th>\n",
       "      <td>2</td>\n",
       "      <td>2017</td>\n",
       "      <td>Pune</td>\n",
       "      <td>2017-04-06</td>\n",
       "      <td>Mumbai Indians</td>\n",
       "      <td>Rising Pune Supergiant</td>\n",
       "      <td>Rising Pune Supergiant</td>\n",
       "      <td>field</td>\n",
       "      <td>normal</td>\n",
       "      <td>0</td>\n",
       "      <td>Rising Pune Supergiant</td>\n",
       "      <td>0</td>\n",
       "      <td>7</td>\n",
       "      <td>SPD Smith</td>\n",
       "      <td>Maharashtra Cricket Association Stadium</td>\n",
       "      <td>A Nand Kishore</td>\n",
       "      <td>S Ravi</td>\n",
       "      <td>NaN</td>\n",
       "    </tr>\n",
       "    <tr>\n",
       "      <th>2</th>\n",
       "      <td>3</td>\n",
       "      <td>2017</td>\n",
       "      <td>Rajkot</td>\n",
       "      <td>2017-04-07</td>\n",
       "      <td>Gujarat Lions</td>\n",
       "      <td>Kolkata Knight Riders</td>\n",
       "      <td>Kolkata Knight Riders</td>\n",
       "      <td>field</td>\n",
       "      <td>normal</td>\n",
       "      <td>0</td>\n",
       "      <td>Kolkata Knight Riders</td>\n",
       "      <td>0</td>\n",
       "      <td>10</td>\n",
       "      <td>CA Lynn</td>\n",
       "      <td>Saurashtra Cricket Association Stadium</td>\n",
       "      <td>Nitin Menon</td>\n",
       "      <td>CK Nandan</td>\n",
       "      <td>NaN</td>\n",
       "    </tr>\n",
       "    <tr>\n",
       "      <th>3</th>\n",
       "      <td>4</td>\n",
       "      <td>2017</td>\n",
       "      <td>Indore</td>\n",
       "      <td>2017-04-08</td>\n",
       "      <td>Rising Pune Supergiant</td>\n",
       "      <td>Kings XI Punjab</td>\n",
       "      <td>Kings XI Punjab</td>\n",
       "      <td>field</td>\n",
       "      <td>normal</td>\n",
       "      <td>0</td>\n",
       "      <td>Kings XI Punjab</td>\n",
       "      <td>0</td>\n",
       "      <td>6</td>\n",
       "      <td>GJ Maxwell</td>\n",
       "      <td>Holkar Cricket Stadium</td>\n",
       "      <td>AK Chaudhary</td>\n",
       "      <td>C Shamshuddin</td>\n",
       "      <td>NaN</td>\n",
       "    </tr>\n",
       "    <tr>\n",
       "      <th>4</th>\n",
       "      <td>5</td>\n",
       "      <td>2017</td>\n",
       "      <td>Bangalore</td>\n",
       "      <td>2017-04-08</td>\n",
       "      <td>Royal Challengers Bangalore</td>\n",
       "      <td>Delhi Daredevils</td>\n",
       "      <td>Royal Challengers Bangalore</td>\n",
       "      <td>bat</td>\n",
       "      <td>normal</td>\n",
       "      <td>0</td>\n",
       "      <td>Royal Challengers Bangalore</td>\n",
       "      <td>15</td>\n",
       "      <td>0</td>\n",
       "      <td>KM Jadhav</td>\n",
       "      <td>M Chinnaswamy Stadium</td>\n",
       "      <td>NaN</td>\n",
       "      <td>NaN</td>\n",
       "      <td>NaN</td>\n",
       "    </tr>\n",
       "  </tbody>\n",
       "</table>\n",
       "</div>"
      ],
      "text/plain": [
       "   id  season       city        date                        team1  \\\n",
       "0   1    2017  Hyderabad  2017-04-05          Sunrisers Hyderabad   \n",
       "1   2    2017       Pune  2017-04-06               Mumbai Indians   \n",
       "2   3    2017     Rajkot  2017-04-07                Gujarat Lions   \n",
       "3   4    2017     Indore  2017-04-08       Rising Pune Supergiant   \n",
       "4   5    2017  Bangalore  2017-04-08  Royal Challengers Bangalore   \n",
       "\n",
       "                         team2                  toss_winner toss_decision  \\\n",
       "0  Royal Challengers Bangalore  Royal Challengers Bangalore         field   \n",
       "1       Rising Pune Supergiant       Rising Pune Supergiant         field   \n",
       "2        Kolkata Knight Riders        Kolkata Knight Riders         field   \n",
       "3              Kings XI Punjab              Kings XI Punjab         field   \n",
       "4             Delhi Daredevils  Royal Challengers Bangalore           bat   \n",
       "\n",
       "   result  dl_applied                       winner  win_by_runs  \\\n",
       "0  normal           0          Sunrisers Hyderabad           35   \n",
       "1  normal           0       Rising Pune Supergiant            0   \n",
       "2  normal           0        Kolkata Knight Riders            0   \n",
       "3  normal           0              Kings XI Punjab            0   \n",
       "4  normal           0  Royal Challengers Bangalore           15   \n",
       "\n",
       "   win_by_wickets player_of_match                                      venue  \\\n",
       "0               0    Yuvraj Singh  Rajiv Gandhi International Stadium, Uppal   \n",
       "1               7       SPD Smith    Maharashtra Cricket Association Stadium   \n",
       "2              10         CA Lynn     Saurashtra Cricket Association Stadium   \n",
       "3               6      GJ Maxwell                     Holkar Cricket Stadium   \n",
       "4               0       KM Jadhav                      M Chinnaswamy Stadium   \n",
       "\n",
       "          umpire1        umpire2  umpire3  \n",
       "0     AY Dandekar       NJ Llong      NaN  \n",
       "1  A Nand Kishore         S Ravi      NaN  \n",
       "2     Nitin Menon      CK Nandan      NaN  \n",
       "3    AK Chaudhary  C Shamshuddin      NaN  \n",
       "4             NaN            NaN      NaN  "
      ]
     },
     "execution_count": 79,
     "metadata": {},
     "output_type": "execute_result"
    }
   ],
   "source": [
    "df.head()"
   ]
  },
  {
   "cell_type": "markdown",
   "metadata": {},
   "source": [
    "## Indexing the data frame"
   ]
  },
  {
   "cell_type": "code",
   "execution_count": 80,
   "metadata": {},
   "outputs": [
    {
     "data": {
      "text/plain": [
       "id                                      4\n",
       "season                               2017\n",
       "city                               Indore\n",
       "date                           2017-04-08\n",
       "team1              Rising Pune Supergiant\n",
       "team2                     Kings XI Punjab\n",
       "toss_winner               Kings XI Punjab\n",
       "toss_decision                       field\n",
       "result                             normal\n",
       "dl_applied                              0\n",
       "winner                    Kings XI Punjab\n",
       "win_by_runs                             0\n",
       "win_by_wickets                          6\n",
       "player_of_match                GJ Maxwell\n",
       "venue              Holkar Cricket Stadium\n",
       "umpire1                      AK Chaudhary\n",
       "umpire2                     C Shamshuddin\n",
       "umpire3                               NaN\n",
       "Name: 3, dtype: object"
      ]
     },
     "execution_count": 80,
     "metadata": {},
     "output_type": "execute_result"
    }
   ],
   "source": [
    "# Select a specific row\n",
    "df.iloc[3]"
   ]
  },
  {
   "cell_type": "markdown",
   "metadata": {},
   "source": [
    "### Select some rows by index"
   ]
  },
  {
   "cell_type": "code",
   "execution_count": 81,
   "metadata": {},
   "outputs": [
    {
     "data": {
      "text/html": [
       "<div>\n",
       "<style>\n",
       "    .dataframe thead tr:only-child th {\n",
       "        text-align: right;\n",
       "    }\n",
       "\n",
       "    .dataframe thead th {\n",
       "        text-align: left;\n",
       "    }\n",
       "\n",
       "    .dataframe tbody tr th {\n",
       "        vertical-align: top;\n",
       "    }\n",
       "</style>\n",
       "<table border=\"1\" class=\"dataframe\">\n",
       "  <thead>\n",
       "    <tr style=\"text-align: right;\">\n",
       "      <th></th>\n",
       "      <th>id</th>\n",
       "      <th>season</th>\n",
       "      <th>city</th>\n",
       "      <th>date</th>\n",
       "      <th>team1</th>\n",
       "      <th>team2</th>\n",
       "      <th>toss_winner</th>\n",
       "      <th>toss_decision</th>\n",
       "      <th>result</th>\n",
       "      <th>dl_applied</th>\n",
       "      <th>winner</th>\n",
       "      <th>win_by_runs</th>\n",
       "      <th>win_by_wickets</th>\n",
       "      <th>player_of_match</th>\n",
       "      <th>venue</th>\n",
       "      <th>umpire1</th>\n",
       "      <th>umpire2</th>\n",
       "      <th>umpire3</th>\n",
       "    </tr>\n",
       "  </thead>\n",
       "  <tbody>\n",
       "    <tr>\n",
       "      <th>10</th>\n",
       "      <td>11</td>\n",
       "      <td>2017</td>\n",
       "      <td>Kolkata</td>\n",
       "      <td>2017-04-13</td>\n",
       "      <td>Kings XI Punjab</td>\n",
       "      <td>Kolkata Knight Riders</td>\n",
       "      <td>Kolkata Knight Riders</td>\n",
       "      <td>field</td>\n",
       "      <td>normal</td>\n",
       "      <td>0</td>\n",
       "      <td>Kolkata Knight Riders</td>\n",
       "      <td>0</td>\n",
       "      <td>8</td>\n",
       "      <td>SP Narine</td>\n",
       "      <td>Eden Gardens</td>\n",
       "      <td>A Deshmukh</td>\n",
       "      <td>NJ Llong</td>\n",
       "      <td>NaN</td>\n",
       "    </tr>\n",
       "    <tr>\n",
       "      <th>11</th>\n",
       "      <td>12</td>\n",
       "      <td>2017</td>\n",
       "      <td>Bangalore</td>\n",
       "      <td>2017-04-14</td>\n",
       "      <td>Royal Challengers Bangalore</td>\n",
       "      <td>Mumbai Indians</td>\n",
       "      <td>Mumbai Indians</td>\n",
       "      <td>field</td>\n",
       "      <td>normal</td>\n",
       "      <td>0</td>\n",
       "      <td>Mumbai Indians</td>\n",
       "      <td>0</td>\n",
       "      <td>4</td>\n",
       "      <td>KA Pollard</td>\n",
       "      <td>M Chinnaswamy Stadium</td>\n",
       "      <td>KN Ananthapadmanabhan</td>\n",
       "      <td>AK Chaudhary</td>\n",
       "      <td>NaN</td>\n",
       "    </tr>\n",
       "  </tbody>\n",
       "</table>\n",
       "</div>"
      ],
      "text/plain": [
       "    id  season       city        date                        team1  \\\n",
       "10  11    2017    Kolkata  2017-04-13              Kings XI Punjab   \n",
       "11  12    2017  Bangalore  2017-04-14  Royal Challengers Bangalore   \n",
       "\n",
       "                    team2            toss_winner toss_decision  result  \\\n",
       "10  Kolkata Knight Riders  Kolkata Knight Riders         field  normal   \n",
       "11         Mumbai Indians         Mumbai Indians         field  normal   \n",
       "\n",
       "    dl_applied                 winner  win_by_runs  win_by_wickets  \\\n",
       "10           0  Kolkata Knight Riders            0               8   \n",
       "11           0         Mumbai Indians            0               4   \n",
       "\n",
       "   player_of_match                  venue                umpire1  \\\n",
       "10       SP Narine           Eden Gardens             A Deshmukh   \n",
       "11      KA Pollard  M Chinnaswamy Stadium  KN Ananthapadmanabhan   \n",
       "\n",
       "         umpire2  umpire3  \n",
       "10      NJ Llong      NaN  \n",
       "11  AK Chaudhary      NaN  "
      ]
     },
     "execution_count": 81,
     "metadata": {},
     "output_type": "execute_result"
    }
   ],
   "source": [
    "df.iloc[10:12]"
   ]
  },
  {
   "cell_type": "markdown",
   "metadata": {},
   "source": [
    "### Select some rows and some columns"
   ]
  },
  {
   "cell_type": "code",
   "execution_count": 82,
   "metadata": {},
   "outputs": [
    {
     "data": {
      "text/html": [
       "<div>\n",
       "<style>\n",
       "    .dataframe thead tr:only-child th {\n",
       "        text-align: right;\n",
       "    }\n",
       "\n",
       "    .dataframe thead th {\n",
       "        text-align: left;\n",
       "    }\n",
       "\n",
       "    .dataframe tbody tr th {\n",
       "        vertical-align: top;\n",
       "    }\n",
       "</style>\n",
       "<table border=\"1\" class=\"dataframe\">\n",
       "  <thead>\n",
       "    <tr style=\"text-align: right;\">\n",
       "      <th></th>\n",
       "      <th>city</th>\n",
       "      <th>date</th>\n",
       "    </tr>\n",
       "  </thead>\n",
       "  <tbody>\n",
       "    <tr>\n",
       "      <th>10</th>\n",
       "      <td>Kolkata</td>\n",
       "      <td>2017-04-13</td>\n",
       "    </tr>\n",
       "    <tr>\n",
       "      <th>11</th>\n",
       "      <td>Bangalore</td>\n",
       "      <td>2017-04-14</td>\n",
       "    </tr>\n",
       "    <tr>\n",
       "      <th>12</th>\n",
       "      <td>Rajkot</td>\n",
       "      <td>2017-04-14</td>\n",
       "    </tr>\n",
       "    <tr>\n",
       "      <th>13</th>\n",
       "      <td>Kolkata</td>\n",
       "      <td>2017-04-15</td>\n",
       "    </tr>\n",
       "    <tr>\n",
       "      <th>14</th>\n",
       "      <td>Delhi</td>\n",
       "      <td>2017-04-15</td>\n",
       "    </tr>\n",
       "  </tbody>\n",
       "</table>\n",
       "</div>"
      ],
      "text/plain": [
       "         city        date\n",
       "10    Kolkata  2017-04-13\n",
       "11  Bangalore  2017-04-14\n",
       "12     Rajkot  2017-04-14\n",
       "13    Kolkata  2017-04-15\n",
       "14      Delhi  2017-04-15"
      ]
     },
     "execution_count": 82,
     "metadata": {},
     "output_type": "execute_result"
    }
   ],
   "source": [
    "df.iloc[10:15, 2:4]"
   ]
  },
  {
   "cell_type": "markdown",
   "metadata": {},
   "source": [
    "### Select some columns by name"
   ]
  },
  {
   "cell_type": "code",
   "execution_count": 83,
   "metadata": {},
   "outputs": [
    {
     "data": {
      "text/html": [
       "<div>\n",
       "<style>\n",
       "    .dataframe thead tr:only-child th {\n",
       "        text-align: right;\n",
       "    }\n",
       "\n",
       "    .dataframe thead th {\n",
       "        text-align: left;\n",
       "    }\n",
       "\n",
       "    .dataframe tbody tr th {\n",
       "        vertical-align: top;\n",
       "    }\n",
       "</style>\n",
       "<table border=\"1\" class=\"dataframe\">\n",
       "  <thead>\n",
       "    <tr style=\"text-align: right;\">\n",
       "      <th></th>\n",
       "      <th>city</th>\n",
       "      <th>date</th>\n",
       "    </tr>\n",
       "  </thead>\n",
       "  <tbody>\n",
       "    <tr>\n",
       "      <th>0</th>\n",
       "      <td>Hyderabad</td>\n",
       "      <td>2017-04-05</td>\n",
       "    </tr>\n",
       "    <tr>\n",
       "      <th>1</th>\n",
       "      <td>Pune</td>\n",
       "      <td>2017-04-06</td>\n",
       "    </tr>\n",
       "    <tr>\n",
       "      <th>2</th>\n",
       "      <td>Rajkot</td>\n",
       "      <td>2017-04-07</td>\n",
       "    </tr>\n",
       "    <tr>\n",
       "      <th>3</th>\n",
       "      <td>Indore</td>\n",
       "      <td>2017-04-08</td>\n",
       "    </tr>\n",
       "    <tr>\n",
       "      <th>4</th>\n",
       "      <td>Bangalore</td>\n",
       "      <td>2017-04-08</td>\n",
       "    </tr>\n",
       "    <tr>\n",
       "      <th>5</th>\n",
       "      <td>Hyderabad</td>\n",
       "      <td>2017-04-09</td>\n",
       "    </tr>\n",
       "    <tr>\n",
       "      <th>6</th>\n",
       "      <td>Mumbai</td>\n",
       "      <td>2017-04-09</td>\n",
       "    </tr>\n",
       "    <tr>\n",
       "      <th>7</th>\n",
       "      <td>Indore</td>\n",
       "      <td>2017-04-10</td>\n",
       "    </tr>\n",
       "    <tr>\n",
       "      <th>8</th>\n",
       "      <td>Pune</td>\n",
       "      <td>2017-04-11</td>\n",
       "    </tr>\n",
       "    <tr>\n",
       "      <th>9</th>\n",
       "      <td>Mumbai</td>\n",
       "      <td>2017-04-12</td>\n",
       "    </tr>\n",
       "  </tbody>\n",
       "</table>\n",
       "</div>"
      ],
      "text/plain": [
       "        city        date\n",
       "0  Hyderabad  2017-04-05\n",
       "1       Pune  2017-04-06\n",
       "2     Rajkot  2017-04-07\n",
       "3     Indore  2017-04-08\n",
       "4  Bangalore  2017-04-08\n",
       "5  Hyderabad  2017-04-09\n",
       "6     Mumbai  2017-04-09\n",
       "7     Indore  2017-04-10\n",
       "8       Pune  2017-04-11\n",
       "9     Mumbai  2017-04-12"
      ]
     },
     "execution_count": 83,
     "metadata": {},
     "output_type": "execute_result"
    }
   ],
   "source": [
    "df[['city', 'date']][:10]"
   ]
  },
  {
   "cell_type": "markdown",
   "metadata": {},
   "source": [
    "## Filter Data"
   ]
  },
  {
   "cell_type": "markdown",
   "metadata": {},
   "source": [
    "### Store all win by runs in a separate dataframe"
   ]
  },
  {
   "cell_type": "code",
   "execution_count": 84,
   "metadata": {},
   "outputs": [
    {
     "data": {
      "text/plain": [
       "(287, 18)"
      ]
     },
     "execution_count": 84,
     "metadata": {},
     "output_type": "execute_result"
    }
   ],
   "source": [
    "runDF = df[df['win_by_runs']>0]\n",
    "runDF.shape"
   ]
  },
  {
   "cell_type": "markdown",
   "metadata": {},
   "source": [
    "### Store all win by wickets in a separate dataframe"
   ]
  },
  {
   "cell_type": "code",
   "execution_count": 85,
   "metadata": {},
   "outputs": [
    {
     "data": {
      "text/plain": [
       "(339, 18)"
      ]
     },
     "execution_count": 85,
     "metadata": {},
     "output_type": "execute_result"
    }
   ],
   "source": [
    "wktDF = df[df['win_by_wickets']>0]\n",
    "wktDF.shape"
   ]
  },
  {
   "cell_type": "markdown",
   "metadata": {},
   "source": [
    "## Data Exploration"
   ]
  },
  {
   "cell_type": "code",
   "execution_count": 86,
   "metadata": {},
   "outputs": [
    {
     "data": {
      "text/plain": [
       "count    287.000000\n",
       "mean      30.320557\n",
       "std       27.621474\n",
       "min        1.000000\n",
       "25%       11.000000\n",
       "50%       22.000000\n",
       "75%       39.000000\n",
       "max      146.000000\n",
       "Name: win_by_runs, dtype: float64"
      ]
     },
     "execution_count": 86,
     "metadata": {},
     "output_type": "execute_result"
    }
   ],
   "source": [
    "runDF['win_by_runs'].describe()"
   ]
  },
  {
   "cell_type": "markdown",
   "metadata": {},
   "source": [
    "### Histogram of win by runs"
   ]
  },
  {
   "cell_type": "code",
   "execution_count": 109,
   "metadata": {},
   "outputs": [
    {
     "data": {
      "text/plain": [
       "array([[<matplotlib.axes._subplots.AxesSubplot object at 0x11a3f0590>]], dtype=object)"
      ]
     },
     "execution_count": 109,
     "metadata": {},
     "output_type": "execute_result"
    },
    {
     "data": {
      "image/png": "[encoded data removed]",
      "text/plain": [
       "<matplotlib.figure.Figure at 0x11a325690>"
      ]
     },
     "metadata": {},
     "output_type": "display_data"
    }
   ],
   "source": [
    "runDF.hist('win_by_runs')"
   ]
  },
  {
   "cell_type": "markdown",
   "metadata": {},
   "source": [
    "### Boxplot of win by runs"
   ]
  },
  {
   "cell_type": "code",
   "execution_count": 108,
   "metadata": {},
   "outputs": [
    {
     "data": {
      "text/plain": [
       "<matplotlib.axes._subplots.AxesSubplot at 0x11958dd10>"
      ]
     },
     "execution_count": 108,
     "metadata": {},
     "output_type": "execute_result"
    },
    {
     "data": {
      "image/png": "[encoded data removed]",
      "text/plain": [
       "<matplotlib.figure.Figure at 0x116b210d0>"
      ]
     },
     "metadata": {},
     "output_type": "display_data"
    }
   ],
   "source": [
    "runDF.boxplot('win_by_runs', sym='')"
   ]
  },
  {
   "cell_type": "markdown",
   "metadata": {},
   "source": [
    "## Counting Frequency"
   ]
  },
  {
   "cell_type": "code",
   "execution_count": 89,
   "metadata": {
    "scrolled": true
   },
   "outputs": [
    {
     "data": {
      "text/plain": [
       "Mumbai Indians                 47\n",
       "Chennai Super Kings            46\n",
       "Kings XI Punjab                32\n",
       "Kolkata Knight Riders          31\n",
       "Royal Challengers Bangalore    30\n",
       "Sunrisers Hyderabad            23\n",
       "Rajasthan Royals               23\n",
       "Delhi Daredevils               21\n",
       "Deccan Chargers                18\n",
       "Pune Warriors                   6\n",
       "Rising Pune Supergiant          5\n",
       "Rising Pune Supergiants         2\n",
       "Kochi Tuskers Kerala            2\n",
       "Gujarat Lions                   1\n",
       "Name: winner, dtype: int64"
      ]
     },
     "execution_count": 89,
     "metadata": {},
     "output_type": "execute_result"
    }
   ],
   "source": [
    "runDF['winner'].value_counts()"
   ]
  },
  {
   "cell_type": "code",
   "execution_count": 90,
   "metadata": {},
   "outputs": [
    {
     "data": {
      "text/plain": [
       "Kolkata Knight Riders          46\n",
       "Mumbai Indians                 44\n",
       "Royal Challengers Bangalore    42\n",
       "Delhi Daredevils               41\n",
       "Rajasthan Royals               38\n",
       "Kings XI Punjab                36\n",
       "Chennai Super Kings            33\n",
       "Sunrisers Hyderabad            18\n",
       "Gujarat Lions                  12\n",
       "Deccan Chargers                11\n",
       "Pune Warriors                   6\n",
       "Rising Pune Supergiant          5\n",
       "Kochi Tuskers Kerala            4\n",
       "Rising Pune Supergiants         3\n",
       "Name: winner, dtype: int64"
      ]
     },
     "execution_count": 90,
     "metadata": {},
     "output_type": "execute_result"
    }
   ],
   "source": [
    "wktDF['winner'].value_counts()"
   ]
  },
  {
   "cell_type": "markdown",
   "metadata": {},
   "source": [
    "### Plotting Freq counts"
   ]
  },
  {
   "cell_type": "code",
   "execution_count": 107,
   "metadata": {},
   "outputs": [
    {
     "data": {
      "image/png": "[encoded data removed]",
      "text/plain": [
       "<matplotlib.figure.Figure at 0x11958d850>"
      ]
     },
     "metadata": {},
     "output_type": "display_data"
    }
   ],
   "source": [
    "fig, ax = plt.subplots()\n",
    "runDF['winner'].value_counts().sort_values().plot(ax=ax, kind='bar', title='Winners by Runs')\n",
    "plt.show()"
   ]
  },
  {
   "cell_type": "markdown",
   "metadata": {},
   "source": [
    "## Average"
   ]
  },
  {
   "cell_type": "markdown",
   "metadata": {},
   "source": [
    "### Average win-by-runs"
   ]
  },
  {
   "cell_type": "code",
   "execution_count": 111,
   "metadata": {},
   "outputs": [
    {
     "data": {
      "text/plain": [
       "count    287.000000\n",
       "mean      30.320557\n",
       "std       27.621474\n",
       "min        1.000000\n",
       "25%       11.000000\n",
       "50%       22.000000\n",
       "75%       39.000000\n",
       "max      146.000000\n",
       "Name: win_by_runs, dtype: float64"
      ]
     },
     "execution_count": 111,
     "metadata": {},
     "output_type": "execute_result"
    }
   ],
   "source": [
    "runDF['win_by_runs'].describe()"
   ]
  },
  {
   "cell_type": "code",
   "execution_count": 120,
   "metadata": {},
   "outputs": [
    {
     "name": "stdout",
     "output_type": "stream",
     "text": [
      "Mean: 30.32\n"
     ]
    }
   ],
   "source": [
    "print ('Mean: %.2f' % runDF['win_by_runs'].mean())"
   ]
  },
  {
   "cell_type": "code",
   "execution_count": 121,
   "metadata": {},
   "outputs": [
    {
     "name": "stdout",
     "output_type": "stream",
     "text": [
      "Median: 22.00\n"
     ]
    }
   ],
   "source": [
    "print ('Median: %.2f' % runDF['win_by_runs'].median())"
   ]
  },
  {
   "cell_type": "markdown",
   "metadata": {},
   "source": [
    "### Let's define a function to calculate mean"
   ]
  },
  {
   "cell_type": "code",
   "execution_count": 125,
   "metadata": {},
   "outputs": [],
   "source": [
    "def calcMean(x):\n",
    "    return x.sum()*1.0/x.count()"
   ]
  },
  {
   "cell_type": "code",
   "execution_count": 126,
   "metadata": {},
   "outputs": [
    {
     "data": {
      "text/plain": [
       "30.320557491289197"
      ]
     },
     "execution_count": 126,
     "metadata": {},
     "output_type": "execute_result"
    }
   ],
   "source": [
    "calcMean(runDF['win_by_runs'])"
   ]
  },
  {
   "cell_type": "code",
   "execution_count": null,
   "metadata": {},
   "outputs": [],
   "source": []
  },
  {
   "cell_type": "code",
   "execution_count": 133,
   "metadata": {},
   "outputs": [
    {
     "data": {
      "text/plain": [
       "winner\n",
       "Chennai Super Kings            34.500000\n",
       "Deccan Chargers                23.388889\n",
       "Delhi Daredevils               27.190476\n",
       "Gujarat Lions                   1.000000\n",
       "Kings XI Punjab                26.937500\n",
       "Kochi Tuskers Kerala           11.500000\n",
       "Kolkata Knight Riders          28.935484\n",
       "Mumbai Indians                 32.595745\n",
       "Pune Warriors                  23.166667\n",
       "Rajasthan Royals               35.695652\n",
       "Rising Pune Supergiant         24.600000\n",
       "Rising Pune Supergiants        26.500000\n",
       "Royal Challengers Bangalore    39.866667\n",
       "Sunrisers Hyderabad            20.695652\n",
       "Name: win_by_runs, dtype: float64"
      ]
     },
     "execution_count": 133,
     "metadata": {},
     "output_type": "execute_result"
    }
   ],
   "source": [
    "runDF.groupby('winner')['win_by_runs'].mean()"
   ]
  },
  {
   "cell_type": "markdown",
   "metadata": {},
   "source": [
    "### Does toss winning lead to match winning"
   ]
  },
  {
   "cell_type": "code",
   "execution_count": 137,
   "metadata": {},
   "outputs": [],
   "source": [
    "df['toss_plus_match_winner'] = df['toss_winner'] == df['winner']"
   ]
  },
  {
   "cell_type": "code",
   "execution_count": 139,
   "metadata": {},
   "outputs": [
    {
     "data": {
      "text/plain": [
       "True     325\n",
       "False    311\n",
       "Name: toss_plus_match_winner, dtype: int64"
      ]
     },
     "execution_count": 139,
     "metadata": {},
     "output_type": "execute_result"
    }
   ],
   "source": [
    "df['toss_plus_match_winner'].value_counts()."
   ]
  },
  {
   "cell_type": "markdown",
   "metadata": {},
   "source": [
    "## Crosstab - Great utility to view categorical data"
   ]
  },
  {
   "cell_type": "markdown",
   "metadata": {},
   "source": [
    "### Do certain teams win more in some cities"
   ]
  },
  {
   "cell_type": "code",
   "execution_count": 142,
   "metadata": {},
   "outputs": [
    {
     "data": {
      "text/html": [
       "<div>\n",
       "<style>\n",
       "    .dataframe thead tr:only-child th {\n",
       "        text-align: right;\n",
       "    }\n",
       "\n",
       "    .dataframe thead th {\n",
       "        text-align: left;\n",
       "    }\n",
       "\n",
       "    .dataframe tbody tr th {\n",
       "        vertical-align: top;\n",
       "    }\n",
       "</style>\n",
       "<table border=\"1\" class=\"dataframe\">\n",
       "  <thead>\n",
       "    <tr style=\"text-align: right;\">\n",
       "      <th>winner</th>\n",
       "      <th>Chennai Super Kings</th>\n",
       "      <th>Deccan Chargers</th>\n",
       "      <th>Delhi Daredevils</th>\n",
       "      <th>Gujarat Lions</th>\n",
       "      <th>Kings XI Punjab</th>\n",
       "      <th>Kochi Tuskers Kerala</th>\n",
       "      <th>Kolkata Knight Riders</th>\n",
       "      <th>Mumbai Indians</th>\n",
       "      <th>Pune Warriors</th>\n",
       "      <th>Rajasthan Royals</th>\n",
       "      <th>Rising Pune Supergiant</th>\n",
       "      <th>Rising Pune Supergiants</th>\n",
       "      <th>Royal Challengers Bangalore</th>\n",
       "      <th>Sunrisers Hyderabad</th>\n",
       "    </tr>\n",
       "    <tr>\n",
       "      <th>city</th>\n",
       "      <th></th>\n",
       "      <th></th>\n",
       "      <th></th>\n",
       "      <th></th>\n",
       "      <th></th>\n",
       "      <th></th>\n",
       "      <th></th>\n",
       "      <th></th>\n",
       "      <th></th>\n",
       "      <th></th>\n",
       "      <th></th>\n",
       "      <th></th>\n",
       "      <th></th>\n",
       "      <th></th>\n",
       "    </tr>\n",
       "  </thead>\n",
       "  <tbody>\n",
       "    <tr>\n",
       "      <th>Abu Dhabi</th>\n",
       "      <td>1</td>\n",
       "      <td>0</td>\n",
       "      <td>0</td>\n",
       "      <td>0</td>\n",
       "      <td>2</td>\n",
       "      <td>0</td>\n",
       "      <td>1</td>\n",
       "      <td>0</td>\n",
       "      <td>0</td>\n",
       "      <td>3</td>\n",
       "      <td>0</td>\n",
       "      <td>0</td>\n",
       "      <td>0</td>\n",
       "      <td>0</td>\n",
       "    </tr>\n",
       "    <tr>\n",
       "      <th>Ahmedabad</th>\n",
       "      <td>0</td>\n",
       "      <td>0</td>\n",
       "      <td>1</td>\n",
       "      <td>0</td>\n",
       "      <td>1</td>\n",
       "      <td>0</td>\n",
       "      <td>0</td>\n",
       "      <td>1</td>\n",
       "      <td>0</td>\n",
       "      <td>7</td>\n",
       "      <td>0</td>\n",
       "      <td>0</td>\n",
       "      <td>1</td>\n",
       "      <td>1</td>\n",
       "    </tr>\n",
       "    <tr>\n",
       "      <th>Bangalore</th>\n",
       "      <td>4</td>\n",
       "      <td>1</td>\n",
       "      <td>3</td>\n",
       "      <td>1</td>\n",
       "      <td>5</td>\n",
       "      <td>0</td>\n",
       "      <td>6</td>\n",
       "      <td>8</td>\n",
       "      <td>0</td>\n",
       "      <td>3</td>\n",
       "      <td>1</td>\n",
       "      <td>0</td>\n",
       "      <td>30</td>\n",
       "      <td>2</td>\n",
       "    </tr>\n",
       "    <tr>\n",
       "      <th>Bloemfontein</th>\n",
       "      <td>0</td>\n",
       "      <td>0</td>\n",
       "      <td>1</td>\n",
       "      <td>0</td>\n",
       "      <td>1</td>\n",
       "      <td>0</td>\n",
       "      <td>0</td>\n",
       "      <td>0</td>\n",
       "      <td>0</td>\n",
       "      <td>0</td>\n",
       "      <td>0</td>\n",
       "      <td>0</td>\n",
       "      <td>0</td>\n",
       "      <td>0</td>\n",
       "    </tr>\n",
       "    <tr>\n",
       "      <th>Cape Town</th>\n",
       "      <td>0</td>\n",
       "      <td>2</td>\n",
       "      <td>1</td>\n",
       "      <td>0</td>\n",
       "      <td>1</td>\n",
       "      <td>0</td>\n",
       "      <td>0</td>\n",
       "      <td>1</td>\n",
       "      <td>0</td>\n",
       "      <td>1</td>\n",
       "      <td>0</td>\n",
       "      <td>0</td>\n",
       "      <td>1</td>\n",
       "      <td>0</td>\n",
       "    </tr>\n",
       "    <tr>\n",
       "      <th>Centurion</th>\n",
       "      <td>2</td>\n",
       "      <td>2</td>\n",
       "      <td>2</td>\n",
       "      <td>0</td>\n",
       "      <td>0</td>\n",
       "      <td>0</td>\n",
       "      <td>1</td>\n",
       "      <td>1</td>\n",
       "      <td>0</td>\n",
       "      <td>2</td>\n",
       "      <td>0</td>\n",
       "      <td>0</td>\n",
       "      <td>2</td>\n",
       "      <td>0</td>\n",
       "    </tr>\n",
       "    <tr>\n",
       "      <th>Chandigarh</th>\n",
       "      <td>3</td>\n",
       "      <td>0</td>\n",
       "      <td>1</td>\n",
       "      <td>2</td>\n",
       "      <td>22</td>\n",
       "      <td>0</td>\n",
       "      <td>3</td>\n",
       "      <td>4</td>\n",
       "      <td>1</td>\n",
       "      <td>3</td>\n",
       "      <td>0</td>\n",
       "      <td>0</td>\n",
       "      <td>3</td>\n",
       "      <td>4</td>\n",
       "    </tr>\n",
       "    <tr>\n",
       "      <th>Chennai</th>\n",
       "      <td>33</td>\n",
       "      <td>2</td>\n",
       "      <td>2</td>\n",
       "      <td>0</td>\n",
       "      <td>2</td>\n",
       "      <td>0</td>\n",
       "      <td>2</td>\n",
       "      <td>3</td>\n",
       "      <td>1</td>\n",
       "      <td>1</td>\n",
       "      <td>0</td>\n",
       "      <td>0</td>\n",
       "      <td>2</td>\n",
       "      <td>0</td>\n",
       "    </tr>\n",
       "    <tr>\n",
       "      <th>Cuttack</th>\n",
       "      <td>0</td>\n",
       "      <td>3</td>\n",
       "      <td>0</td>\n",
       "      <td>0</td>\n",
       "      <td>1</td>\n",
       "      <td>0</td>\n",
       "      <td>3</td>\n",
       "      <td>0</td>\n",
       "      <td>0</td>\n",
       "      <td>0</td>\n",
       "      <td>0</td>\n",
       "      <td>0</td>\n",
       "      <td>0</td>\n",
       "      <td>0</td>\n",
       "    </tr>\n",
       "    <tr>\n",
       "      <th>Delhi</th>\n",
       "      <td>5</td>\n",
       "      <td>2</td>\n",
       "      <td>23</td>\n",
       "      <td>1</td>\n",
       "      <td>4</td>\n",
       "      <td>1</td>\n",
       "      <td>5</td>\n",
       "      <td>3</td>\n",
       "      <td>1</td>\n",
       "      <td>4</td>\n",
       "      <td>0</td>\n",
       "      <td>1</td>\n",
       "      <td>5</td>\n",
       "      <td>4</td>\n",
       "    </tr>\n",
       "    <tr>\n",
       "      <th>Dharamsala</th>\n",
       "      <td>1</td>\n",
       "      <td>2</td>\n",
       "      <td>1</td>\n",
       "      <td>0</td>\n",
       "      <td>5</td>\n",
       "      <td>0</td>\n",
       "      <td>0</td>\n",
       "      <td>0</td>\n",
       "      <td>0</td>\n",
       "      <td>0</td>\n",
       "      <td>0</td>\n",
       "      <td>0</td>\n",
       "      <td>0</td>\n",
       "      <td>0</td>\n",
       "    </tr>\n",
       "    <tr>\n",
       "      <th>Durban</th>\n",
       "      <td>1</td>\n",
       "      <td>2</td>\n",
       "      <td>3</td>\n",
       "      <td>0</td>\n",
       "      <td>2</td>\n",
       "      <td>0</td>\n",
       "      <td>2</td>\n",
       "      <td>0</td>\n",
       "      <td>0</td>\n",
       "      <td>2</td>\n",
       "      <td>0</td>\n",
       "      <td>0</td>\n",
       "      <td>3</td>\n",
       "      <td>0</td>\n",
       "    </tr>\n",
       "    <tr>\n",
       "      <th>East London</th>\n",
       "      <td>1</td>\n",
       "      <td>0</td>\n",
       "      <td>1</td>\n",
       "      <td>0</td>\n",
       "      <td>0</td>\n",
       "      <td>0</td>\n",
       "      <td>0</td>\n",
       "      <td>1</td>\n",
       "      <td>0</td>\n",
       "      <td>0</td>\n",
       "      <td>0</td>\n",
       "      <td>0</td>\n",
       "      <td>0</td>\n",
       "      <td>0</td>\n",
       "    </tr>\n",
       "    <tr>\n",
       "      <th>Hyderabad</th>\n",
       "      <td>2</td>\n",
       "      <td>3</td>\n",
       "      <td>4</td>\n",
       "      <td>0</td>\n",
       "      <td>4</td>\n",
       "      <td>0</td>\n",
       "      <td>4</td>\n",
       "      <td>5</td>\n",
       "      <td>1</td>\n",
       "      <td>2</td>\n",
       "      <td>1</td>\n",
       "      <td>1</td>\n",
       "      <td>2</td>\n",
       "      <td>20</td>\n",
       "    </tr>\n",
       "    <tr>\n",
       "      <th>Indore</th>\n",
       "      <td>0</td>\n",
       "      <td>0</td>\n",
       "      <td>0</td>\n",
       "      <td>0</td>\n",
       "      <td>3</td>\n",
       "      <td>1</td>\n",
       "      <td>0</td>\n",
       "      <td>1</td>\n",
       "      <td>0</td>\n",
       "      <td>0</td>\n",
       "      <td>0</td>\n",
       "      <td>0</td>\n",
       "      <td>0</td>\n",
       "      <td>0</td>\n",
       "    </tr>\n",
       "    <tr>\n",
       "      <th>Jaipur</th>\n",
       "      <td>2</td>\n",
       "      <td>0</td>\n",
       "      <td>1</td>\n",
       "      <td>0</td>\n",
       "      <td>0</td>\n",
       "      <td>0</td>\n",
       "      <td>1</td>\n",
       "      <td>2</td>\n",
       "      <td>0</td>\n",
       "      <td>24</td>\n",
       "      <td>0</td>\n",
       "      <td>0</td>\n",
       "      <td>3</td>\n",
       "      <td>0</td>\n",
       "    </tr>\n",
       "    <tr>\n",
       "      <th>Johannesburg</th>\n",
       "      <td>1</td>\n",
       "      <td>2</td>\n",
       "      <td>1</td>\n",
       "      <td>0</td>\n",
       "      <td>1</td>\n",
       "      <td>0</td>\n",
       "      <td>0</td>\n",
       "      <td>0</td>\n",
       "      <td>0</td>\n",
       "      <td>0</td>\n",
       "      <td>0</td>\n",
       "      <td>0</td>\n",
       "      <td>3</td>\n",
       "      <td>0</td>\n",
       "    </tr>\n",
       "    <tr>\n",
       "      <th>Kanpur</th>\n",
       "      <td>0</td>\n",
       "      <td>0</td>\n",
       "      <td>1</td>\n",
       "      <td>2</td>\n",
       "      <td>0</td>\n",
       "      <td>0</td>\n",
       "      <td>0</td>\n",
       "      <td>0</td>\n",
       "      <td>0</td>\n",
       "      <td>0</td>\n",
       "      <td>0</td>\n",
       "      <td>0</td>\n",
       "      <td>0</td>\n",
       "      <td>1</td>\n",
       "    </tr>\n",
       "    <tr>\n",
       "      <th>Kimberley</th>\n",
       "      <td>1</td>\n",
       "      <td>1</td>\n",
       "      <td>0</td>\n",
       "      <td>0</td>\n",
       "      <td>1</td>\n",
       "      <td>0</td>\n",
       "      <td>0</td>\n",
       "      <td>0</td>\n",
       "      <td>0</td>\n",
       "      <td>0</td>\n",
       "      <td>0</td>\n",
       "      <td>0</td>\n",
       "      <td>0</td>\n",
       "      <td>0</td>\n",
       "    </tr>\n",
       "    <tr>\n",
       "      <th>Kochi</th>\n",
       "      <td>0</td>\n",
       "      <td>1</td>\n",
       "      <td>1</td>\n",
       "      <td>0</td>\n",
       "      <td>0</td>\n",
       "      <td>2</td>\n",
       "      <td>0</td>\n",
       "      <td>0</td>\n",
       "      <td>0</td>\n",
       "      <td>0</td>\n",
       "      <td>0</td>\n",
       "      <td>0</td>\n",
       "      <td>1</td>\n",
       "      <td>0</td>\n",
       "    </tr>\n",
       "    <tr>\n",
       "      <th>Kolkata</th>\n",
       "      <td>4</td>\n",
       "      <td>0</td>\n",
       "      <td>1</td>\n",
       "      <td>2</td>\n",
       "      <td>2</td>\n",
       "      <td>1</td>\n",
       "      <td>37</td>\n",
       "      <td>9</td>\n",
       "      <td>0</td>\n",
       "      <td>1</td>\n",
       "      <td>1</td>\n",
       "      <td>0</td>\n",
       "      <td>3</td>\n",
       "      <td>0</td>\n",
       "    </tr>\n",
       "    <tr>\n",
       "      <th>Mumbai</th>\n",
       "      <td>8</td>\n",
       "      <td>3</td>\n",
       "      <td>2</td>\n",
       "      <td>1</td>\n",
       "      <td>5</td>\n",
       "      <td>1</td>\n",
       "      <td>3</td>\n",
       "      <td>45</td>\n",
       "      <td>3</td>\n",
       "      <td>5</td>\n",
       "      <td>2</td>\n",
       "      <td>1</td>\n",
       "      <td>5</td>\n",
       "      <td>1</td>\n",
       "    </tr>\n",
       "    <tr>\n",
       "      <th>Nagpur</th>\n",
       "      <td>0</td>\n",
       "      <td>2</td>\n",
       "      <td>0</td>\n",
       "      <td>0</td>\n",
       "      <td>0</td>\n",
       "      <td>0</td>\n",
       "      <td>0</td>\n",
       "      <td>0</td>\n",
       "      <td>0</td>\n",
       "      <td>1</td>\n",
       "      <td>0</td>\n",
       "      <td>0</td>\n",
       "      <td>0</td>\n",
       "      <td>0</td>\n",
       "    </tr>\n",
       "    <tr>\n",
       "      <th>Port Elizabeth</th>\n",
       "      <td>2</td>\n",
       "      <td>0</td>\n",
       "      <td>1</td>\n",
       "      <td>0</td>\n",
       "      <td>1</td>\n",
       "      <td>0</td>\n",
       "      <td>0</td>\n",
       "      <td>2</td>\n",
       "      <td>0</td>\n",
       "      <td>1</td>\n",
       "      <td>0</td>\n",
       "      <td>0</td>\n",
       "      <td>0</td>\n",
       "      <td>0</td>\n",
       "    </tr>\n",
       "    <tr>\n",
       "      <th>Pune</th>\n",
       "      <td>1</td>\n",
       "      <td>1</td>\n",
       "      <td>3</td>\n",
       "      <td>1</td>\n",
       "      <td>1</td>\n",
       "      <td>0</td>\n",
       "      <td>6</td>\n",
       "      <td>3</td>\n",
       "      <td>4</td>\n",
       "      <td>2</td>\n",
       "      <td>5</td>\n",
       "      <td>0</td>\n",
       "      <td>4</td>\n",
       "      <td>1</td>\n",
       "    </tr>\n",
       "    <tr>\n",
       "      <th>Raipur</th>\n",
       "      <td>0</td>\n",
       "      <td>0</td>\n",
       "      <td>4</td>\n",
       "      <td>0</td>\n",
       "      <td>0</td>\n",
       "      <td>0</td>\n",
       "      <td>0</td>\n",
       "      <td>0</td>\n",
       "      <td>0</td>\n",
       "      <td>0</td>\n",
       "      <td>0</td>\n",
       "      <td>0</td>\n",
       "      <td>1</td>\n",
       "      <td>1</td>\n",
       "    </tr>\n",
       "    <tr>\n",
       "      <th>Rajkot</th>\n",
       "      <td>0</td>\n",
       "      <td>0</td>\n",
       "      <td>1</td>\n",
       "      <td>3</td>\n",
       "      <td>2</td>\n",
       "      <td>0</td>\n",
       "      <td>1</td>\n",
       "      <td>1</td>\n",
       "      <td>0</td>\n",
       "      <td>0</td>\n",
       "      <td>0</td>\n",
       "      <td>0</td>\n",
       "      <td>1</td>\n",
       "      <td>1</td>\n",
       "    </tr>\n",
       "    <tr>\n",
       "      <th>Ranchi</th>\n",
       "      <td>3</td>\n",
       "      <td>0</td>\n",
       "      <td>0</td>\n",
       "      <td>0</td>\n",
       "      <td>0</td>\n",
       "      <td>0</td>\n",
       "      <td>1</td>\n",
       "      <td>0</td>\n",
       "      <td>1</td>\n",
       "      <td>0</td>\n",
       "      <td>0</td>\n",
       "      <td>0</td>\n",
       "      <td>1</td>\n",
       "      <td>1</td>\n",
       "    </tr>\n",
       "    <tr>\n",
       "      <th>Sharjah</th>\n",
       "      <td>1</td>\n",
       "      <td>0</td>\n",
       "      <td>1</td>\n",
       "      <td>0</td>\n",
       "      <td>2</td>\n",
       "      <td>0</td>\n",
       "      <td>1</td>\n",
       "      <td>0</td>\n",
       "      <td>0</td>\n",
       "      <td>0</td>\n",
       "      <td>0</td>\n",
       "      <td>0</td>\n",
       "      <td>1</td>\n",
       "      <td>0</td>\n",
       "    </tr>\n",
       "    <tr>\n",
       "      <th>Visakhapatnam</th>\n",
       "      <td>1</td>\n",
       "      <td>0</td>\n",
       "      <td>1</td>\n",
       "      <td>0</td>\n",
       "      <td>1</td>\n",
       "      <td>0</td>\n",
       "      <td>0</td>\n",
       "      <td>2</td>\n",
       "      <td>0</td>\n",
       "      <td>1</td>\n",
       "      <td>0</td>\n",
       "      <td>2</td>\n",
       "      <td>0</td>\n",
       "      <td>3</td>\n",
       "    </tr>\n",
       "  </tbody>\n",
       "</table>\n",
       "</div>"
      ],
      "text/plain": [
       "winner          Chennai Super Kings  Deccan Chargers  Delhi Daredevils  \\\n",
       "city                                                                     \n",
       "Abu Dhabi                         1                0                 0   \n",
       "Ahmedabad                         0                0                 1   \n",
       "Bangalore                         4                1                 3   \n",
       "Bloemfontein                      0                0                 1   \n",
       "Cape Town                         0                2                 1   \n",
       "Centurion                         2                2                 2   \n",
       "Chandigarh                        3                0                 1   \n",
       "Chennai                          33                2                 2   \n",
       "Cuttack                           0                3                 0   \n",
       "Delhi                             5                2                23   \n",
       "Dharamsala                        1                2                 1   \n",
       "Durban                            1                2                 3   \n",
       "East London                       1                0                 1   \n",
       "Hyderabad                         2                3                 4   \n",
       "Indore                            0                0                 0   \n",
       "Jaipur                            2                0                 1   \n",
       "Johannesburg                      1                2                 1   \n",
       "Kanpur                            0                0                 1   \n",
       "Kimberley                         1                1                 0   \n",
       "Kochi                             0                1                 1   \n",
       "Kolkata                           4                0                 1   \n",
       "Mumbai                            8                3                 2   \n",
       "Nagpur                            0                2                 0   \n",
       "Port Elizabeth                    2                0                 1   \n",
       "Pune                              1                1                 3   \n",
       "Raipur                            0                0                 4   \n",
       "Rajkot                            0                0                 1   \n",
       "Ranchi                            3                0                 0   \n",
       "Sharjah                           1                0                 1   \n",
       "Visakhapatnam                     1                0                 1   \n",
       "\n",
       "winner          Gujarat Lions  Kings XI Punjab  Kochi Tuskers Kerala  \\\n",
       "city                                                                   \n",
       "Abu Dhabi                   0                2                     0   \n",
       "Ahmedabad                   0                1                     0   \n",
       "Bangalore                   1                5                     0   \n",
       "Bloemfontein                0                1                     0   \n",
       "Cape Town                   0                1                     0   \n",
       "Centurion                   0                0                     0   \n",
       "Chandigarh                  2               22                     0   \n",
       "Chennai                     0                2                     0   \n",
       "Cuttack                     0                1                     0   \n",
       "Delhi                       1                4                     1   \n",
       "Dharamsala                  0                5                     0   \n",
       "Durban                      0                2                     0   \n",
       "East London                 0                0                     0   \n",
       "Hyderabad                   0                4                     0   \n",
       "Indore                      0                3                     1   \n",
       "Jaipur                      0                0                     0   \n",
       "Johannesburg                0                1                     0   \n",
       "Kanpur                      2                0                     0   \n",
       "Kimberley                   0                1                     0   \n",
       "Kochi                       0                0                     2   \n",
       "Kolkata                     2                2                     1   \n",
       "Mumbai                      1                5                     1   \n",
       "Nagpur                      0                0                     0   \n",
       "Port Elizabeth              0                1                     0   \n",
       "Pune                        1                1                     0   \n",
       "Raipur                      0                0                     0   \n",
       "Rajkot                      3                2                     0   \n",
       "Ranchi                      0                0                     0   \n",
       "Sharjah                     0                2                     0   \n",
       "Visakhapatnam               0                1                     0   \n",
       "\n",
       "winner          Kolkata Knight Riders  Mumbai Indians  Pune Warriors  \\\n",
       "city                                                                   \n",
       "Abu Dhabi                           1               0              0   \n",
       "Ahmedabad                           0               1              0   \n",
       "Bangalore                           6               8              0   \n",
       "Bloemfontein                        0               0              0   \n",
       "Cape Town                           0               1              0   \n",
       "Centurion                           1               1              0   \n",
       "Chandigarh                          3               4              1   \n",
       "Chennai                             2               3              1   \n",
       "Cuttack                             3               0              0   \n",
       "Delhi                               5               3              1   \n",
       "Dharamsala                          0               0              0   \n",
       "Durban                              2               0              0   \n",
       "East London                         0               1              0   \n",
       "Hyderabad                           4               5              1   \n",
       "Indore                              0               1              0   \n",
       "Jaipur                              1               2              0   \n",
       "Johannesburg                        0               0              0   \n",
       "Kanpur                              0               0              0   \n",
       "Kimberley                           0               0              0   \n",
       "Kochi                               0               0              0   \n",
       "Kolkata                            37               9              0   \n",
       "Mumbai                              3              45              3   \n",
       "Nagpur                              0               0              0   \n",
       "Port Elizabeth                      0               2              0   \n",
       "Pune                                6               3              4   \n",
       "Raipur                              0               0              0   \n",
       "Rajkot                              1               1              0   \n",
       "Ranchi                              1               0              1   \n",
       "Sharjah                             1               0              0   \n",
       "Visakhapatnam                       0               2              0   \n",
       "\n",
       "winner          Rajasthan Royals  Rising Pune Supergiant  \\\n",
       "city                                                       \n",
       "Abu Dhabi                      3                       0   \n",
       "Ahmedabad                      7                       0   \n",
       "Bangalore                      3                       1   \n",
       "Bloemfontein                   0                       0   \n",
       "Cape Town                      1                       0   \n",
       "Centurion                      2                       0   \n",
       "Chandigarh                     3                       0   \n",
       "Chennai                        1                       0   \n",
       "Cuttack                        0                       0   \n",
       "Delhi                          4                       0   \n",
       "Dharamsala                     0                       0   \n",
       "Durban                         2                       0   \n",
       "East London                    0                       0   \n",
       "Hyderabad                      2                       1   \n",
       "Indore                         0                       0   \n",
       "Jaipur                        24                       0   \n",
       "Johannesburg                   0                       0   \n",
       "Kanpur                         0                       0   \n",
       "Kimberley                      0                       0   \n",
       "Kochi                          0                       0   \n",
       "Kolkata                        1                       1   \n",
       "Mumbai                         5                       2   \n",
       "Nagpur                         1                       0   \n",
       "Port Elizabeth                 1                       0   \n",
       "Pune                           2                       5   \n",
       "Raipur                         0                       0   \n",
       "Rajkot                         0                       0   \n",
       "Ranchi                         0                       0   \n",
       "Sharjah                        0                       0   \n",
       "Visakhapatnam                  1                       0   \n",
       "\n",
       "winner          Rising Pune Supergiants  Royal Challengers Bangalore  \\\n",
       "city                                                                   \n",
       "Abu Dhabi                             0                            0   \n",
       "Ahmedabad                             0                            1   \n",
       "Bangalore                             0                           30   \n",
       "Bloemfontein                          0                            0   \n",
       "Cape Town                             0                            1   \n",
       "Centurion                             0                            2   \n",
       "Chandigarh                            0                            3   \n",
       "Chennai                               0                            2   \n",
       "Cuttack                               0                            0   \n",
       "Delhi                                 1                            5   \n",
       "Dharamsala                            0                            0   \n",
       "Durban                                0                            3   \n",
       "East London                           0                            0   \n",
       "Hyderabad                             1                            2   \n",
       "Indore                                0                            0   \n",
       "Jaipur                                0                            3   \n",
       "Johannesburg                          0                            3   \n",
       "Kanpur                                0                            0   \n",
       "Kimberley                             0                            0   \n",
       "Kochi                                 0                            1   \n",
       "Kolkata                               0                            3   \n",
       "Mumbai                                1                            5   \n",
       "Nagpur                                0                            0   \n",
       "Port Elizabeth                        0                            0   \n",
       "Pune                                  0                            4   \n",
       "Raipur                                0                            1   \n",
       "Rajkot                                0                            1   \n",
       "Ranchi                                0                            1   \n",
       "Sharjah                               0                            1   \n",
       "Visakhapatnam                         2                            0   \n",
       "\n",
       "winner          Sunrisers Hyderabad  \n",
       "city                                 \n",
       "Abu Dhabi                         0  \n",
       "Ahmedabad                         1  \n",
       "Bangalore                         2  \n",
       "Bloemfontein                      0  \n",
       "Cape Town                         0  \n",
       "Centurion                         0  \n",
       "Chandigarh                        4  \n",
       "Chennai                           0  \n",
       "Cuttack                           0  \n",
       "Delhi                             4  \n",
       "Dharamsala                        0  \n",
       "Durban                            0  \n",
       "East London                       0  \n",
       "Hyderabad                        20  \n",
       "Indore                            0  \n",
       "Jaipur                            0  \n",
       "Johannesburg                      0  \n",
       "Kanpur                            1  \n",
       "Kimberley                         0  \n",
       "Kochi                             0  \n",
       "Kolkata                           0  \n",
       "Mumbai                            1  \n",
       "Nagpur                            0  \n",
       "Port Elizabeth                    0  \n",
       "Pune                              1  \n",
       "Raipur                            1  \n",
       "Rajkot                            1  \n",
       "Ranchi                            1  \n",
       "Sharjah                           0  \n",
       "Visakhapatnam                     3  "
      ]
     },
     "execution_count": 142,
     "metadata": {},
     "output_type": "execute_result"
    }
   ],
   "source": [
    "pd.crosstab(df['city'], df['winner'])"
   ]
  },
  {
   "cell_type": "markdown",
   "metadata": {},
   "source": [
    "### Let's get the best city for each team"
   ]
  },
  {
   "cell_type": "code",
   "execution_count": 215,
   "metadata": {
    "scrolled": false
   },
   "outputs": [
    {
     "data": {
      "text/plain": [
       "winner\n",
       "Chennai Super Kings                Chennai -> 33 out of 77\n",
       "Deccan Chargers                     Cuttack -> 3 out of 29\n",
       "Delhi Daredevils                     Delhi -> 23 out of 61\n",
       "Gujarat Lions                        Rajkot -> 3 out of 13\n",
       "Kings XI Punjab                 Chandigarh -> 22 out of 69\n",
       "Kochi Tuskers Kerala                   Kochi -> 2 out of 6\n",
       "Kolkata Knight Riders              Kolkata -> 37 out of 77\n",
       "Mumbai Indians                      Mumbai -> 45 out of 92\n",
       "Pune Warriors                          Pune -> 4 out of 12\n",
       "Rajasthan Royals                    Jaipur -> 24 out of 63\n",
       "Rising Pune Supergiant                 Pune -> 5 out of 10\n",
       "Rising Pune Supergiants        Visakhapatnam -> 2 out of 5\n",
       "Royal Challengers Bangalore      Bangalore -> 30 out of 72\n",
       "Sunrisers Hyderabad              Hyderabad -> 20 out of 40\n",
       "Name: city, dtype: object"
      ]
     },
     "execution_count": 215,
     "metadata": {},
     "output_type": "execute_result"
    }
   ],
   "source": [
    "df.groupby(['winner'])['city'].agg(lambda x:x.value_counts().index[0] + \" -> \" + \n",
    "                                   str(x.value_counts().values[0]) + \n",
    "                                   \" out of \" + str(x.count()))"
   ]
  },
  {
   "cell_type": "markdown",
   "metadata": {},
   "source": [
    "### Conversely, who are most frequent winners in each city"
   ]
  },
  {
   "cell_type": "code",
   "execution_count": 217,
   "metadata": {},
   "outputs": [
    {
     "data": {
      "text/plain": [
       "city\n",
       "Abu Dhabi                      Rajasthan Royals -> 3 out of 7\n",
       "Ahmedabad                     Rajasthan Royals -> 7 out of 12\n",
       "Bangalore         Royal Challengers Bangalore -> 30 out of 64\n",
       "Bloemfontein                   Delhi Daredevils -> 1 out of 2\n",
       "Cape Town                       Deccan Chargers -> 2 out of 7\n",
       "Centurion                  Chennai Super Kings -> 2 out of 12\n",
       "Chandigarh                    Kings XI Punjab -> 22 out of 46\n",
       "Chennai                   Chennai Super Kings -> 33 out of 48\n",
       "Cuttack                   Kolkata Knight Riders -> 3 out of 7\n",
       "Delhi                        Delhi Daredevils -> 23 out of 59\n",
       "Dharamsala                      Kings XI Punjab -> 5 out of 9\n",
       "Durban                        Delhi Daredevils -> 3 out of 15\n",
       "East London                      Mumbai Indians -> 1 out of 3\n",
       "Hyderabad                 Sunrisers Hyderabad -> 20 out of 49\n",
       "Indore                          Kings XI Punjab -> 3 out of 5\n",
       "Jaipur                       Rajasthan Royals -> 24 out of 33\n",
       "Johannesburg        Royal Challengers Bangalore -> 3 out of 8\n",
       "Kanpur                            Gujarat Lions -> 2 out of 4\n",
       "Kimberley                   Chennai Super Kings -> 1 out of 3\n",
       "Kochi                      Kochi Tuskers Kerala -> 2 out of 5\n",
       "Kolkata                 Kolkata Knight Riders -> 37 out of 61\n",
       "Mumbai                         Mumbai Indians -> 45 out of 85\n",
       "Nagpur                          Deccan Chargers -> 2 out of 3\n",
       "Port Elizabeth                   Mumbai Indians -> 2 out of 7\n",
       "Pune                     Kolkata Knight Riders -> 6 out of 32\n",
       "Raipur                         Delhi Daredevils -> 4 out of 6\n",
       "Rajkot                           Gujarat Lions -> 3 out of 10\n",
       "Ranchi                      Chennai Super Kings -> 3 out of 7\n",
       "Sharjah                         Kings XI Punjab -> 2 out of 6\n",
       "Visakhapatnam              Sunrisers Hyderabad -> 3 out of 11\n",
       "Name: winner, dtype: object"
      ]
     },
     "execution_count": 217,
     "metadata": {},
     "output_type": "execute_result"
    }
   ],
   "source": [
    "df.groupby(['city'])['winner'].agg(lambda x:x.value_counts().index[0] + \" -> \" + \n",
    "                                   str(x.value_counts().values[0]) + \n",
    "                                   \" out of \" + str(x.count()))"
   ]
  }
 ],
 "metadata": {
  "kernelspec": {
   "display_name": "Python 2",
   "language": "python",
   "name": "python2"
  },
  "language_info": {
   "codemirror_mode": {
    "name": "ipython",
    "version": 2
   },
   "file_extension": ".py",
   "mimetype": "text/x-python",
   "name": "python",
   "nbconvert_exporter": "python",
   "pygments_lexer": "ipython2",
   "version": "2.7.10"
  }
 },
 "nbformat": 4,
 "nbformat_minor": 2
}
